{
 "cells": [
  {
   "cell_type": "code",
   "execution_count": 1,
   "id": "d2425b12",
   "metadata": {},
   "outputs": [],
   "source": [
    "import pandas as pd\n",
    "import matplotlib.pyplot as plt \n",
    "import numpy as np\n"
   ]
  },
  {
   "cell_type": "markdown",
   "id": "f8d63adc",
   "metadata": {},
   "source": [
    "### Reading Data "
   ]
  },
  {
   "cell_type": "code",
   "execution_count": 2,
   "id": "a332f65d",
   "metadata": {},
   "outputs": [],
   "source": [
    "data = pd.read_csv('data.csv')"
   ]
  },
  {
   "cell_type": "code",
   "execution_count": 3,
   "id": "9ae2a665",
   "metadata": {},
   "outputs": [
    {
     "data": {
      "text/html": [
       "<div>\n",
       "<style scoped>\n",
       "    .dataframe tbody tr th:only-of-type {\n",
       "        vertical-align: middle;\n",
       "    }\n",
       "\n",
       "    .dataframe tbody tr th {\n",
       "        vertical-align: top;\n",
       "    }\n",
       "\n",
       "    .dataframe thead th {\n",
       "        text-align: right;\n",
       "    }\n",
       "</style>\n",
       "<table border=\"1\" class=\"dataframe\">\n",
       "  <thead>\n",
       "    <tr style=\"text-align: right;\">\n",
       "      <th></th>\n",
       "      <th>RTT</th>\n",
       "      <th>Category</th>\n",
       "    </tr>\n",
       "  </thead>\n",
       "  <tbody>\n",
       "    <tr>\n",
       "      <th>0</th>\n",
       "      <td>0.005768</td>\n",
       "      <td>0</td>\n",
       "    </tr>\n",
       "    <tr>\n",
       "      <th>1</th>\n",
       "      <td>0.028131</td>\n",
       "      <td>0</td>\n",
       "    </tr>\n",
       "    <tr>\n",
       "      <th>2</th>\n",
       "      <td>0.027017</td>\n",
       "      <td>0</td>\n",
       "    </tr>\n",
       "    <tr>\n",
       "      <th>3</th>\n",
       "      <td>0.018183</td>\n",
       "      <td>0</td>\n",
       "    </tr>\n",
       "    <tr>\n",
       "      <th>4</th>\n",
       "      <td>0.020868</td>\n",
       "      <td>0</td>\n",
       "    </tr>\n",
       "    <tr>\n",
       "      <th>...</th>\n",
       "      <td>...</td>\n",
       "      <td>...</td>\n",
       "    </tr>\n",
       "    <tr>\n",
       "      <th>5311</th>\n",
       "      <td>0.106236</td>\n",
       "      <td>1</td>\n",
       "    </tr>\n",
       "    <tr>\n",
       "      <th>5312</th>\n",
       "      <td>0.131086</td>\n",
       "      <td>1</td>\n",
       "    </tr>\n",
       "    <tr>\n",
       "      <th>5313</th>\n",
       "      <td>0.128193</td>\n",
       "      <td>1</td>\n",
       "    </tr>\n",
       "    <tr>\n",
       "      <th>5314</th>\n",
       "      <td>0.105811</td>\n",
       "      <td>1</td>\n",
       "    </tr>\n",
       "    <tr>\n",
       "      <th>5315</th>\n",
       "      <td>0.111664</td>\n",
       "      <td>1</td>\n",
       "    </tr>\n",
       "  </tbody>\n",
       "</table>\n",
       "<p>5316 rows × 2 columns</p>\n",
       "</div>"
      ],
      "text/plain": [
       "           RTT  Category\n",
       "0     0.005768         0\n",
       "1     0.028131         0\n",
       "2     0.027017         0\n",
       "3     0.018183         0\n",
       "4     0.020868         0\n",
       "...        ...       ...\n",
       "5311  0.106236         1\n",
       "5312  0.131086         1\n",
       "5313  0.128193         1\n",
       "5314  0.105811         1\n",
       "5315  0.111664         1\n",
       "\n",
       "[5316 rows x 2 columns]"
      ]
     },
     "execution_count": 3,
     "metadata": {},
     "output_type": "execute_result"
    }
   ],
   "source": [
    "data"
   ]
  },
  {
   "cell_type": "markdown",
   "id": "dc1b4cac",
   "metadata": {},
   "source": [
    "### Plotting data "
   ]
  },
  {
   "cell_type": "code",
   "execution_count": 4,
   "id": "75c3582b",
   "metadata": {},
   "outputs": [
    {
     "data": {
      "text/plain": [
       "Text(0, 0.5, 'Category')"
      ]
     },
     "execution_count": 4,
     "metadata": {},
     "output_type": "execute_result"
    },
    {
     "data": {
      "image/png": "[encoded data removed]",
      "text/plain": [
       "<Figure size 640x480 with 1 Axes>"
      ]
     },
     "metadata": {},
     "output_type": "display_data"
    }
   ],
   "source": [
    "y = data.pop('Category')\n",
    "plt.scatter(data['RTT'], y)\n",
    "plt.xlabel('RTT')\n",
    "plt.ylabel('Category')"
   ]
  },
  {
   "cell_type": "markdown",
   "id": "d86aefea",
   "metadata": {},
   "source": [
    "### Përdorimi i Logistic Regression për këto të dhëna është i përshtatshëm për shkak të problemit të klasifikimit "
   ]
  },
  {
   "cell_type": "code",
   "execution_count": 5,
   "id": "92bb459e",
   "metadata": {},
   "outputs": [],
   "source": [
    "from sklearn.linear_model import LogisticRegression \n",
    "from sklearn.model_selection import train_test_split\n",
    "from sklearn.metrics import accuracy_score\n"
   ]
  },
  {
   "cell_type": "code",
   "execution_count": 6,
   "id": "0ce25ffa",
   "metadata": {},
   "outputs": [],
   "source": [
    "model = LogisticRegression()\n"
   ]
  },
  {
   "cell_type": "code",
   "execution_count": 23,
   "id": "f4540af8",
   "metadata": {},
   "outputs": [
    {
     "data": {
      "text/plain": [
       "1    2843\n",
       "0    2473\n",
       "Name: Category, dtype: int64"
      ]
     },
     "execution_count": 23,
     "metadata": {},
     "output_type": "execute_result"
    }
   ],
   "source": [
    "y.value_counts()"
   ]
  },
  {
   "cell_type": "markdown",
   "id": "cb1ce6e8",
   "metadata": {},
   "source": [
    "### Spliting data into test and train "
   ]
  },
  {
   "cell_type": "code",
   "execution_count": 8,
   "id": "7f56e78f",
   "metadata": {},
   "outputs": [],
   "source": [
    "X_train, X_test, Y_train, Y_test = train_test_split(data ,y, test_size = 0.2, random_state = 1)"
   ]
  },
  {
   "cell_type": "code",
   "execution_count": 27,
   "id": "751ddd4e",
   "metadata": {},
   "outputs": [
    {
     "data": {
      "text/plain": [
       "array([[32.82983038]])"
      ]
     },
     "execution_count": 27,
     "metadata": {},
     "output_type": "execute_result"
    }
   ],
   "source": [
    "model_fit = model.fit(X_train, Y_train)\n",
    "coef = model.coef_\n",
    "coef"
   ]
  },
  {
   "cell_type": "code",
   "execution_count": 24,
   "id": "1c1a7796",
   "metadata": {},
   "outputs": [
    {
     "name": "stdout",
     "output_type": "stream",
     "text": [
      "(4252, 1) (1064, 1)\n"
     ]
    }
   ],
   "source": [
    "print(X_train.shape, X_test.shape)"
   ]
  },
  {
   "cell_type": "code",
   "execution_count": 11,
   "id": "c6dd8596",
   "metadata": {},
   "outputs": [
    {
     "data": {
      "text/plain": [
       "LogisticRegression()"
      ]
     },
     "execution_count": 11,
     "metadata": {},
     "output_type": "execute_result"
    }
   ],
   "source": [
    "model_fit"
   ]
  },
  {
   "cell_type": "code",
   "execution_count": 12,
   "id": "0a55b378",
   "metadata": {},
   "outputs": [
    {
     "data": {
      "text/plain": [
       "(4252,)"
      ]
     },
     "execution_count": 12,
     "metadata": {},
     "output_type": "execute_result"
    }
   ],
   "source": [
    "Y_train.shape"
   ]
  },
  {
   "cell_type": "markdown",
   "id": "5f678134",
   "metadata": {},
   "source": [
    "### Prediction model and accuracy "
   ]
  },
  {
   "cell_type": "code",
   "execution_count": 13,
   "id": "a0d4e2ad",
   "metadata": {},
   "outputs": [
    {
     "data": {
      "text/plain": [
       "array([0, 0, 0, ..., 0, 0, 1], dtype=int64)"
      ]
     },
     "execution_count": 13,
     "metadata": {},
     "output_type": "execute_result"
    }
   ],
   "source": [
    "y_pred = model.predict(X_test)\n",
    "y_pred"
   ]
  },
  {
   "cell_type": "code",
   "execution_count": 14,
   "id": "fac784fa",
   "metadata": {},
   "outputs": [
    {
     "data": {
      "text/plain": [
       "0.993421052631579"
      ]
     },
     "execution_count": 14,
     "metadata": {},
     "output_type": "execute_result"
    }
   ],
   "source": [
    "accuracy_score(Y_test, y_pred)"
   ]
  },
  {
   "cell_type": "markdown",
   "id": "6c56b285",
   "metadata": {},
   "source": [
    "### Decision Tree Algorith"
   ]
  },
  {
   "cell_type": "code",
   "execution_count": 15,
   "id": "bef375b3",
   "metadata": {},
   "outputs": [],
   "source": [
    "from sklearn.tree import DecisionTreeClassifier"
   ]
  },
  {
   "cell_type": "code",
   "execution_count": 16,
   "id": "b9964a10",
   "metadata": {},
   "outputs": [],
   "source": [
    "tree =  DecisionTreeClassifier(max_depth = 2)\n",
    "tree_fit =tree.fit(X_train,Y_train)"
   ]
  },
  {
   "cell_type": "code",
   "execution_count": 17,
   "id": "52e69e15",
   "metadata": {},
   "outputs": [],
   "source": [
    "y_pred_tree = tree.predict(X_test)"
   ]
  },
  {
   "cell_type": "code",
   "execution_count": 18,
   "id": "98108dd2",
   "metadata": {},
   "outputs": [
    {
     "data": {
      "text/plain": [
       "0.9953007518796992"
      ]
     },
     "execution_count": 18,
     "metadata": {},
     "output_type": "execute_result"
    }
   ],
   "source": [
    "accuracy_score(Y_test, y_pred_tree)"
   ]
  },
  {
   "cell_type": "markdown",
   "id": "be11c728",
   "metadata": {},
   "source": [
    "### Interpretation of sigmoid function "
   ]
  },
  {
   "cell_type": "code",
   "execution_count": 111,
   "id": "0998349d",
   "metadata": {},
   "outputs": [
    {
     "data": {
      "text/plain": [
       "(5316,)"
      ]
     },
     "execution_count": 111,
     "metadata": {},
     "output_type": "execute_result"
    }
   ],
   "source": [
    "x = np.linspace(-7,7,300)\n"
   ]
  },
  {
   "cell_type": "code",
   "execution_count": 119,
   "id": "9440ffea",
   "metadata": {},
   "outputs": [],
   "source": [
    "def sigmoid(z):\n",
    "    s = 1/(1+ np.exp(-x))\n",
    "    return s"
   ]
  },
  {
   "cell_type": "code",
   "execution_count": 120,
   "id": "d95b7d7d",
   "metadata": {},
   "outputs": [
    {
     "data": {
      "text/plain": [
       "array([9.11051194e-04, 9.54681868e-04, 1.00039994e-03, 1.04830508e-03,\n",
       "       1.09850168e-03, 1.15109910e-03, 1.20621191e-03, 1.26396008e-03,\n",
       "       1.32446933e-03, 1.38787129e-03, 1.45430386e-03, 1.52391148e-03,\n",
       "       1.59684541e-03, 1.67326409e-03, 1.75333344e-03, 1.83722724e-03,\n",
       "       1.92512745e-03, 2.01722467e-03, 2.11371844e-03, 2.21481773e-03,\n",
       "       2.32074137e-03, 2.43171846e-03, 2.54798888e-03, 2.66980379e-03,\n",
       "       2.79742612e-03, 2.93113115e-03, 3.07120702e-03, 3.21795538e-03,\n",
       "       3.37169195e-03, 3.53274719e-03, 3.70146697e-03, 3.87821324e-03,\n",
       "       4.06336479e-03, 4.25731796e-03, 4.46048747e-03, 4.67330722e-03,\n",
       "       4.89623113e-03, 5.12973404e-03, 5.37431265e-03, 5.63048643e-03,\n",
       "       5.89879866e-03, 6.17981743e-03, 6.47413675e-03, 6.78237763e-03,\n",
       "       7.10518924e-03, 7.44325015e-03, 7.79726948e-03, 8.16798828e-03,\n",
       "       8.55618080e-03, 8.96265588e-03, 9.38825835e-03, 9.83387052e-03,\n",
       "       1.03004137e-02, 1.07888496e-02, 1.13001823e-02, 1.18354594e-02,\n",
       "       1.23957741e-02, 1.29822667e-02, 1.35961266e-02, 1.42385938e-02,\n",
       "       1.49109610e-02, 1.56145755e-02, 1.63508408e-02, 1.71212190e-02,\n",
       "       1.79272325e-02, 1.87704659e-02, 1.96525683e-02, 2.05752552e-02,\n",
       "       2.15403103e-02, 2.25495879e-02, 2.36050147e-02, 2.47085916e-02,\n",
       "       2.58623962e-02, 2.70685840e-02, 2.83293908e-02, 2.96471343e-02,\n",
       "       3.10242156e-02, 3.24631212e-02, 3.39664239e-02, 3.55367847e-02,\n",
       "       3.71769535e-02, 3.88897705e-02, 4.06781663e-02, 4.25451633e-02,\n",
       "       4.44938751e-02, 4.65275070e-02, 4.86493554e-02, 5.08628070e-02,\n",
       "       5.31713378e-02, 5.55785113e-02, 5.80879766e-02, 6.07034657e-02,\n",
       "       6.34287903e-02, 6.62678381e-02, 6.92245680e-02, 7.23030056e-02,\n",
       "       7.55072366e-02, 7.88414004e-02, 8.23096826e-02, 8.59163064e-02,\n",
       "       8.96655230e-02, 9.35616018e-02, 9.76088183e-02, 1.01811442e-01,\n",
       "       1.06173723e-01, 1.10699878e-01, 1.15394071e-01, 1.20260401e-01,\n",
       "       1.25302882e-01, 1.30525424e-01, 1.35931810e-01, 1.41525680e-01,\n",
       "       1.47310503e-01, 1.53289559e-01, 1.59465908e-01, 1.65842372e-01,\n",
       "       1.72421505e-01, 1.79205566e-01, 1.86196497e-01, 1.93395890e-01,\n",
       "       2.00804965e-01, 2.08424539e-01, 2.16255005e-01, 2.24296299e-01,\n",
       "       2.32547884e-01, 2.41008717e-01, 2.49677234e-01, 2.58551327e-01,\n",
       "       2.67628326e-01, 2.76904981e-01, 2.86377451e-01, 2.96041296e-01,\n",
       "       3.05891464e-01, 3.15922291e-01, 3.26127501e-01, 3.36500210e-01,\n",
       "       3.47032930e-01, 3.57717589e-01, 3.68545540e-01, 3.79507585e-01,\n",
       "       3.90594000e-01, 4.01794564e-01, 4.13098590e-01, 4.24494967e-01,\n",
       "       4.35972194e-01, 4.47518433e-01, 4.59121547e-01, 4.70769156e-01,\n",
       "       4.82448686e-01, 4.94147425e-01, 5.05852575e-01, 5.17551314e-01,\n",
       "       5.29230844e-01, 5.40878453e-01, 5.52481567e-01, 5.64027806e-01,\n",
       "       5.75505033e-01, 5.86901410e-01, 5.98205436e-01, 6.09406000e-01,\n",
       "       6.20492415e-01, 6.31454460e-01, 6.42282411e-01, 6.52967070e-01,\n",
       "       6.63499790e-01, 6.73872499e-01, 6.84077709e-01, 6.94108536e-01,\n",
       "       7.03958704e-01, 7.13622549e-01, 7.23095019e-01, 7.32371674e-01,\n",
       "       7.41448673e-01, 7.50322766e-01, 7.58991283e-01, 7.67452116e-01,\n",
       "       7.75703701e-01, 7.83744995e-01, 7.91575461e-01, 7.99195035e-01,\n",
       "       8.06604110e-01, 8.13803503e-01, 8.20794434e-01, 8.27578495e-01,\n",
       "       8.34157628e-01, 8.40534092e-01, 8.46710441e-01, 8.52689497e-01,\n",
       "       8.58474320e-01, 8.64068190e-01, 8.69474576e-01, 8.74697118e-01,\n",
       "       8.79739599e-01, 8.84605929e-01, 8.89300122e-01, 8.93826277e-01,\n",
       "       8.98188558e-01, 9.02391182e-01, 9.06438398e-01, 9.10334477e-01,\n",
       "       9.14083694e-01, 9.17690317e-01, 9.21158600e-01, 9.24492763e-01,\n",
       "       9.27696994e-01, 9.30775432e-01, 9.33732162e-01, 9.36571210e-01,\n",
       "       9.39296534e-01, 9.41912023e-01, 9.44421489e-01, 9.46828662e-01,\n",
       "       9.49137193e-01, 9.51350645e-01, 9.53472493e-01, 9.55506125e-01,\n",
       "       9.57454837e-01, 9.59321834e-01, 9.61110230e-01, 9.62823046e-01,\n",
       "       9.64463215e-01, 9.66033576e-01, 9.67536879e-01, 9.68975784e-01,\n",
       "       9.70352866e-01, 9.71670609e-01, 9.72931416e-01, 9.74137604e-01,\n",
       "       9.75291408e-01, 9.76394985e-01, 9.77450412e-01, 9.78459690e-01,\n",
       "       9.79424745e-01, 9.80347432e-01, 9.81229534e-01, 9.82072768e-01,\n",
       "       9.82878781e-01, 9.83649159e-01, 9.84385425e-01, 9.85089039e-01,\n",
       "       9.85761406e-01, 9.86403873e-01, 9.87017733e-01, 9.87604226e-01,\n",
       "       9.88164541e-01, 9.88699818e-01, 9.89211150e-01, 9.89699586e-01,\n",
       "       9.90166129e-01, 9.90611742e-01, 9.91037344e-01, 9.91443819e-01,\n",
       "       9.91832012e-01, 9.92202731e-01, 9.92556750e-01, 9.92894811e-01,\n",
       "       9.93217622e-01, 9.93525863e-01, 9.93820183e-01, 9.94101201e-01,\n",
       "       9.94369514e-01, 9.94625687e-01, 9.94870266e-01, 9.95103769e-01,\n",
       "       9.95326693e-01, 9.95539513e-01, 9.95742682e-01, 9.95936635e-01,\n",
       "       9.96121787e-01, 9.96298533e-01, 9.96467253e-01, 9.96628308e-01,\n",
       "       9.96782045e-01, 9.96928793e-01, 9.97068869e-01, 9.97202574e-01,\n",
       "       9.97330196e-01, 9.97452011e-01, 9.97568282e-01, 9.97679259e-01,\n",
       "       9.97785182e-01, 9.97886282e-01, 9.97982775e-01, 9.98074873e-01,\n",
       "       9.98162773e-01, 9.98246667e-01, 9.98326736e-01, 9.98403155e-01,\n",
       "       9.98476089e-01, 9.98545696e-01, 9.98612129e-01, 9.98675531e-01,\n",
       "       9.98736040e-01, 9.98793788e-01, 9.98848901e-01, 9.98901498e-01,\n",
       "       9.98951695e-01, 9.98999600e-01, 9.99045318e-01, 9.99088949e-01])"
      ]
     },
     "execution_count": 120,
     "metadata": {},
     "output_type": "execute_result"
    }
   ],
   "source": [
    "function_sigmiod = sigmoid(x)\n",
    "function_sigmiod\n",
    "#feature_1"
   ]
  },
  {
   "cell_type": "code",
   "execution_count": null,
   "id": "50b8c1ce",
   "metadata": {},
   "outputs": [],
   "source": []
  },
  {
   "cell_type": "markdown",
   "id": "81f7cbae",
   "metadata": {},
   "source": [
    "### Ploitting sigmoid function "
   ]
  },
  {
   "cell_type": "code",
   "execution_count": 121,
   "id": "798517f4",
   "metadata": {},
   "outputs": [
    {
     "data": {
      "text/plain": [
       "Text(0.5, 1.0, 'Sigmoid Function')"
      ]
     },
     "execution_count": 121,
     "metadata": {},
     "output_type": "execute_result"
    },
    {
     "data": {
      "image/png": "[encoded data removed]",
      "text/plain": [
       "<Figure size 640x480 with 1 Axes>"
      ]
     },
     "metadata": {},
     "output_type": "display_data"
    }
   ],
   "source": [
    "plt.plot(x, function_sigmiod)\n",
    "plt.axhline(y = 0.5, color = 'r', linestyle = '-')\n",
    "plt.xlabel('x')\n",
    "plt.ylabel('sigmoid')\n",
    "plt.title('Sigmoid Function')"
   ]
  },
  {
   "cell_type": "code",
   "execution_count": null,
   "id": "0311ed43",
   "metadata": {},
   "outputs": [],
   "source": []
  },
  {
   "cell_type": "code",
   "execution_count": null,
   "id": "33110aab",
   "metadata": {},
   "outputs": [],
   "source": []
  },
  {
   "cell_type": "code",
   "execution_count": null,
   "id": "cf89f75f",
   "metadata": {},
   "outputs": [],
   "source": []
  },
  {
   "cell_type": "code",
   "execution_count": null,
   "id": "9c6d499f",
   "metadata": {},
   "outputs": [],
   "source": []
  },
  {
   "cell_type": "code",
   "execution_count": null,
   "id": "c0019fd6",
   "metadata": {},
   "outputs": [],
   "source": []
  },
  {
   "cell_type": "code",
   "execution_count": null,
   "id": "92489fc7",
   "metadata": {},
   "outputs": [],
   "source": []
  },
  {
   "cell_type": "code",
   "execution_count": null,
   "id": "c9870d65",
   "metadata": {},
   "outputs": [],
   "source": []
  }
 ],
 "metadata": {
  "kernelspec": {
   "display_name": "Python 3 (ipykernel)",
   "language": "python",
   "name": "python3"
  },
  "language_info": {
   "codemirror_mode": {
    "name": "ipython",
    "version": 3
   },
   "file_extension": ".py",
   "mimetype": "text/x-python",
   "name": "python",
   "nbconvert_exporter": "python",
   "pygments_lexer": "ipython3",
   "version": "3.9.13"
  }
 },
 "nbformat": 4,
 "nbformat_minor": 5
}
